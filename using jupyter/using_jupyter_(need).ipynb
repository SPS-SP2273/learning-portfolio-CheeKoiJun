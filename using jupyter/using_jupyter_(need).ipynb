{
 "cells": [
  {
   "cell_type": "code",
   "execution_count": null,
   "id": "f2dd644a",
   "metadata": {},
   "outputs": [],
   "source": [
    "<div style=\"text-align:left;font-size:2em\"><span style=\"font-weight:bolder;font-size:1.25em\">SP2273 | Learning Portfolio</span><br><br><span style=\"font-weight:bold;color:darkred\">Using Jupyter (Need)</span></div>"
   ]
  },
  {
   "cell_type": "markdown",
   "id": "61b1a6bf",
   "metadata": {},
   "source": [
    "## 1 Getting started with Jupyter"
   ]
  },
  {
   "cell_type": "markdown",
   "id": "90dcd743",
   "metadata": {},
   "source": [
    "### 1.1 Its all about running cells"
   ]
  },
  {
   "cell_type": "code",
   "execution_count": 1,
   "id": "63e543fb",
   "metadata": {},
   "outputs": [
    {
     "name": "stdout",
     "output_type": "stream",
     "text": [
      "Hello World\n"
     ]
    },
    {
     "data": {
      "text/plain": [
       "[None]"
      ]
     },
     "execution_count": 1,
     "metadata": {},
     "output_type": "execute_result"
    }
   ],
   "source": [
    "[print('Hello World')]"
   ]
  },
  {
   "cell_type": "markdown",
   "id": "4517a277",
   "metadata": {},
   "source": [
    "### 1.2 A traditional start"
   ]
  },
  {
   "cell_type": "code",
   "execution_count": 3,
   "id": "40e9d57d",
   "metadata": {},
   "outputs": [
    {
     "name": "stdout",
     "output_type": "stream",
     "text": [
      "Hello World\n"
     ]
    }
   ],
   "source": [
    "\n",
    "print('Hello World')"
   ]
  },
  {
   "cell_type": "markdown",
   "id": "8f59c123",
   "metadata": {},
   "source": [
    "## 2 All about Markdown"
   ]
  },
  {
   "cell_type": "markdown",
   "id": "ba4f3c37",
   "metadata": {},
   "source": [
    "### 2.1 Rendering Markdown cells"
   ]
  },
  {
   "cell_type": "markdown",
   "id": "c9195990",
   "metadata": {},
   "source": [
    "The ships hung in the sky in much the same way that bricks don't"
   ]
  },
  {
   "cell_type": "markdown",
   "id": "38582a2a",
   "metadata": {},
   "source": [
    "### 2.2 Some basic syntax"
   ]
  },
  {
   "cell_type": "markdown",
   "id": "df538c62",
   "metadata": {},
   "source": [
    "The ships *hung in the sky* in much the same way that **bricks don't** <sup>1</sup><sub>QUOTE</sub>"
   ]
  },
  {
   "cell_type": "markdown",
   "id": "b3a6ceb9",
   "metadata": {},
   "source": [
    "### 2.3 Headings"
   ]
  },
  {
   "cell_type": "markdown",
   "id": "8eedaa13",
   "metadata": {},
   "source": [
    "\n",
    "# The smallest heading\n"
   ]
  },
  {
   "cell_type": "markdown",
   "id": "6a7e6779",
   "metadata": {},
   "source": [
    "### 2.4 Displaying Code"
   ]
  },
  {
   "cell_type": "markdown",
   "id": "8669293a",
   "metadata": {},
   "source": [
    "```python\n",
    "print('Hello World!')\n",
    "```\n"
   ]
  },
  {
   "cell_type": "markdown",
   "id": "7abed54d",
   "metadata": {},
   "source": [
    "### 2.5 Links"
   ]
  },
  {
   "cell_type": "markdown",
   "id": "19c5d49b",
   "metadata": {},
   "source": [
    "[SP2273](https://sps.nus.edu.sg/2273)\n"
   ]
  },
  {
   "cell_type": "markdown",
   "id": "21056e28",
   "metadata": {},
   "source": [
    "### 2.6 Images"
   ]
  },
  {
   "cell_type": "markdown",
   "id": "7700c6d0",
   "metadata": {},
   "source": [
    "![1](https://nus.edu.sg/images/default-source/base/logo.png)"
   ]
  },
  {
   "cell_type": "markdown",
   "id": "5582a0a2",
   "metadata": {},
   "source": [
    "### 2.7 Tables"
   ]
  },
  {
   "cell_type": "markdown",
   "id": "81d1380b",
   "metadata": {},
   "source": [
    "|A|B|C|D|\n",
    "|:--|:-:|--:|:--|\n",
    "| a1   |  b1  |   c1 | d1|\n",
    "| a2   |  b2  |   c2 | d2|\n",
    "| a3   |  b3  |   c3 | d3|\n"
   ]
  },
  {
   "cell_type": "markdown",
   "id": "57e536b1",
   "metadata": {},
   "source": [
    "### 2.8 Lists"
   ]
  },
  {
   "cell_type": "markdown",
   "id": "7464d1e7",
   "metadata": {},
   "source": [
    "1. Master Yoda\n",
    "   1. Was a Jedi\n",
    "   1. Was a bit green\n",
    "1. Luke Skywalker\n",
    "   1. Was a Jedi\n",
    "   1. Is Anakin's son.\n",
    "1. Anakin Skywalker\n",
    "   1. Was a Jedi then became a baddie\n",
    "   1. Is famous for saying 'Luke, I am your father'\n"
   ]
  },
  {
   "cell_type": "markdown",
   "id": "4183234a",
   "metadata": {},
   "source": [
    "### 2.9 Equations"
   ]
  },
  {
   "cell_type": "markdown",
   "id": "6383c942",
   "metadata": {},
   "source": [
    "$$\n",
    "x = \\dfrac{-b \\pm \\sqrt{b^2-4ac}}{2a}\n",
    "$$"
   ]
  },
  {
   "cell_type": "markdown",
   "id": "3e4a8732",
   "metadata": {},
   "source": [
    "## Exercise 1 :  Put it in Markdown"
   ]
  },
  {
   "cell_type": "markdown",
   "id": "cba2f111",
   "metadata": {},
   "source": [
    "![Quardratic Equations](https://en.wikipedia.org/wiki/Quadratic_equation)\n",
    "\n",
    "**Introduction**\n",
    "\n",
    "The general form of a quadratic equation is:\n",
    "\n",
    "\n",
    "$ax^2 + bx + c = 0$\n",
    "\n",
    "**Solutions** Provided $a \\ne 0$, we can use an elementary algebraic method called [completing the square](https://en.wikipedia.org/wiki/Completing_the_square) to show that a quadratic equation has the following solution:\n",
    "\n",
    "$x = \\dfrac{-b \\pm \\sqrt{b^2 - 4ac}}{2a}$\n",
    "\n",
    "**Discriminant** \n",
    "\n",
    "The quantity $\\delta = b^2 -4ac$ is called the **discriminant** of the equation and decides the nature of its solutions. The table below shows the various possibilities.\n",
    "\n",
    "|**Discriminant**|**Roots**|\n",
    "|:-:|:--|\n",
    "|$\\Delta = b^2 -4ac = 0$|A single solution of $\\dfrac{-b}{2a}$|\n",
    "|$\\Delta = b^2 -4ac \\gt 0$|Two distinct solutions|\n",
    "|$\\Delta = b^2 -4ac \\lt 0$|No real solutions; both are complex.|"
   ]
  },
  {
   "cell_type": "markdown",
   "id": "32fc359b",
   "metadata": {},
   "source": [
    "## Exercise 2 :  In your own words"
   ]
  },
  {
   "cell_type": "markdown",
   "id": "0ef01c26",
   "metadata": {},
   "source": [
    "1. It is a place to store our **code & files**\n",
    "2. Git keeps tracks of **changes** in the files of our repository\n",
    "3. They are the **snapshots / history** of your file and code repository\n",
    "4. A push happens when the edits in a local branch is used to **update** a shared file/ remote branch\n",
    "5. GitHub is an app that lets users interact better with GitHub through a GUI\n",
    "6. A pull"
   ]
  },
  {
   "cell_type": "code",
   "execution_count": null,
   "id": "2eeb49f3",
   "metadata": {},
   "outputs": [],
   "source": []
  }
 ],
 "metadata": {
  "kernelspec": {
   "display_name": "Python 3 (ipykernel)",
   "language": "python",
   "name": "python3"
  },
  "language_info": {
   "codemirror_mode": {
    "name": "ipython",
    "version": 3
   },
   "file_extension": ".py",
   "mimetype": "text/x-python",
   "name": "python",
   "nbconvert_exporter": "python",
   "pygments_lexer": "ipython3",
   "version": "3.10.8"
  },
  "toc": {
   "base_numbering": 1,
   "nav_menu": {},
   "number_sections": true,
   "sideBar": true,
   "skip_h1_title": false,
   "title_cell": "Table of Contents",
   "title_sidebar": "Contents",
   "toc_cell": false,
   "toc_position": {},
   "toc_section_display": true,
   "toc_window_display": false
  },
  "vscode": {
   "interpreter": {
    "hash": "31f2aee4e71d21fbe5cf8b01ff0e069b9275f58929596ceb00d14d90e3e16cd6"
   }
  }
 },
 "nbformat": 4,
 "nbformat_minor": 5
}
