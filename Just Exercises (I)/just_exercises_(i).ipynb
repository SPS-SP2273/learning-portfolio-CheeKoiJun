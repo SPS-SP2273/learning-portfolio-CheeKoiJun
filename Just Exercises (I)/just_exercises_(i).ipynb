{
 "cells": [
  {
   "cell_type": "markdown",
   "id": "123456",
   "metadata": {},
   "source": [
    "<div style=\"text-align:left;font-size:2em\"><span style=\"font-weight:bolder;font-size:1.25em\">SP2273 | Learning Portfolio</span><br><br><span style=\"font-weight:bold;color:darkred\">Just Exercises (I)</span></div>"
   ]
  },
  {
   "cell_type": "markdown",
   "id": "ea58ab4b",
   "metadata": {},
   "source": [
    "## Exercise 1 :  F-strings to the rescue"
   ]
  },
  {
   "cell_type": "code",
   "execution_count": 32,
   "id": "80b410c7",
   "metadata": {},
   "outputs": [
    {
     "name": "stdout",
     "output_type": "stream",
     "text": [
      "00001\n",
      "00002\n",
      "00003\n",
      "00004\n",
      "00005\n",
      "00006\n",
      "00007\n",
      "00008\n",
      "00009\n",
      "00010\n"
     ]
    }
   ],
   "source": [
    "for i in range(1,11):\n",
    "    print(f'{i:05d}')"
   ]
  },
  {
   "cell_type": "code",
   "execution_count": 13,
   "id": "822754d3",
   "metadata": {},
   "outputs": [
    {
     "name": "stdout",
     "output_type": "stream",
     "text": [
      "00001\n",
      "00002\n",
      "00003\n",
      "00004\n",
      "00005\n",
      "00006\n",
      "00007\n",
      "00008\n",
      "00009\n",
      "00010\n"
     ]
    }
   ],
   "source": [
    "for i in range(1, 11):\n",
    "    if i <10:\n",
    "        print('0000'+str(i))\n",
    "    elif i <100:\n",
    "        print('000'+str(i))"
   ]
  },
  {
   "cell_type": "code",
   "execution_count": 47,
   "id": "7f601507",
   "metadata": {},
   "outputs": [
    {
     "name": "stdout",
     "output_type": "stream",
     "text": [
      "001          +\n",
      "002         ++\n",
      "003        +++\n",
      "004       ++++\n",
      "005      +++++\n",
      "006     ++++++\n",
      "007    +++++++\n",
      "008   ++++++++\n",
      "009  +++++++++\n",
      "010 ++++++++++\n"
     ]
    }
   ],
   "source": [
    "for i in range(1,11):\n",
    "    print(f\"{i:03d} {'+'*i:>10}\")"
   ]
  },
  {
   "cell_type": "code",
   "execution_count": 49,
   "id": "46c5b1bf",
   "metadata": {},
   "outputs": [
    {
     "name": "stdout",
     "output_type": "stream",
     "text": [
      "001 -+++++++++\n",
      "002 --++++++++\n",
      "003 ---+++++++\n",
      "004 ----++++++\n",
      "005 -----+++++\n",
      "006 ------++++\n",
      "007 -------+++\n",
      "008 --------++\n",
      "009 ---------+\n",
      "010 ----------\n"
     ]
    }
   ],
   "source": [
    "for i in range(1,11):\n",
    "    print(f\"{i:03d} {'-'*i}{'+'*(10 - i)}\")"
   ]
  },
  {
   "cell_type": "code",
   "execution_count": 56,
   "id": "64f5d2e5",
   "metadata": {},
   "outputs": [
    {
     "name": "stdout",
     "output_type": "stream",
     "text": [
      "['bruce_exploits.txt', 'bruce_enemies.txt', 'bruce_friends.txt', 'natasha_exploits.txt', 'natasha_enemies.txt', 'natasha_friends.txt', 'tony_exploits.txt', 'tony_enemies.txt', 'tony_friends.txt']\n"
     ]
    }
   ],
   "source": [
    "Hero_names = ['bruce', 'natasha', 'tony']\n",
    "Hero_actions =['exploits', 'enemies', 'friends']\n",
    "info = []\n",
    "for names in Hero_names:\n",
    "    for actions in Hero_actions:\n",
    "        info.append(f\"{names}_{actions}.txt\")\n",
    "print(info)"
   ]
  },
  {
   "cell_type": "code",
   "execution_count": 50,
   "id": "c16ff0e4",
   "metadata": {},
   "outputs": [
    {
     "data": {
      "text/plain": [
       "['bruce_exploits.txt',\n",
       " 'bruce_enemies.txt',\n",
       " 'bruce_friends.txt',\n",
       " 'natasha_exploits.txt',\n",
       " 'natasha_enemies.txt',\n",
       " 'natasha_friends.txt',\n",
       " 'tony_exploits.txt',\n",
       " 'tony_enemies.txt',\n",
       " 'tony_friends.txt']"
      ]
     },
     "execution_count": 50,
     "metadata": {},
     "output_type": "execute_result"
    }
   ],
   "source": [
    "way = ['bruce_exploits.txt', 'bruce_enemies.txt', 'bruce_friends.txt',\n",
    " 'natasha_exploits.txt', 'natasha_enemies.txt', 'natasha_friends.txt',\n",
    " 'tony_exploits.txt', 'tony_enemies.txt', 'tony_friends.txt']"
   ]
  },
  {
   "cell_type": "code",
   "execution_count": 64,
   "id": "81c26fe0",
   "metadata": {},
   "outputs": [
    {
     "name": "stdout",
     "output_type": "stream",
     "text": [
      "['data_sg_exp-01_trial-001.txt', 'data_sg_exp-0_trial-001.txt', 'data_sg_exp-03_trial-001.txt', 'data_gb_exp-01_trial-001.txt', 'data_gb_exp-0_trial-001.txt', 'data_gb_exp-03_trial-001.txt', 'data_us_exp-01_trial-001.txt', 'data_us_exp-0_trial-001.txt', 'data_us_exp-03_trial-001.txt', 'data_u_exp-01_trial-002.txt', 'data_u_exp-0_trial-002.txt', 'data_u_exp-03_trial-002.txt', 'data_s_exp-01_trial-002.txt', 'data_s_exp-0_trial-002.txt', 'data_s_exp-03_trial-002.txt', 'data_s_exp-01_trial-003.txt', 'data_s_exp-0_trial-003.txt', 'data_s_exp-03_trial-003.txt', 'data_s_exp-01_trial-004.txt', 'data_s_exp-0_trial-004.txt', 'data_s_exp-03_trial-004.txt', 'data_s_exp-01_trial-005.txt', 'data_s_exp-0_trial-005.txt', 'data_s_exp-03_trial-005.txt', 'data_s_exp-01_trial-006.txt', 'data_s_exp-0_trial-006.txt', 'data_s_exp-03_trial-006.txt', 'data_s_exp-01_trial-007.txt', 'data_s_exp-0_trial-007.txt', 'data_s_exp-03_trial-007.txt', 'data_s_exp-01_trial-008.txt', 'data_s_exp-0_trial-008.txt', 'data_s_exp-03_trial-008.txt', 'data_s_exp-01_trial-009.txt', 'data_s_exp-0_trial-009.txt', 'data_s_exp-03_trial-009.txt', 'data_s_exp-01_trial-010.txt', 'data_s_exp-0_trial-010.txt', 'data_s_exp-03_trial-010.txt', 'data_s_exp-01_trial-011.txt', 'data_s_exp-0_trial-011.txt', 'data_s_exp-03_trial-011.txt', 'data_s_exp-01_trial-012.txt', 'data_s_exp-0_trial-012.txt', 'data_s_exp-03_trial-012.txt', 'data_s_exp-01_trial-013.txt', 'data_s_exp-0_trial-013.txt', 'data_s_exp-03_trial-013.txt', 'data_s_exp-01_trial-014.txt', 'data_s_exp-0_trial-014.txt', 'data_s_exp-03_trial-014.txt', 'data_s_exp-01_trial-015.txt', 'data_s_exp-0_trial-015.txt', 'data_s_exp-03_trial-015.txt', 'data_s_exp-01_trial-016.txt', 'data_s_exp-0_trial-016.txt', 'data_s_exp-03_trial-016.txt', 'data_s_exp-01_trial-017.txt', 'data_s_exp-0_trial-017.txt', 'data_s_exp-03_trial-017.txt', 'data_s_exp-01_trial-018.txt', 'data_s_exp-0_trial-018.txt', 'data_s_exp-03_trial-018.txt', 'data_s_exp-01_trial-019.txt', 'data_s_exp-0_trial-019.txt', 'data_s_exp-03_trial-019.txt', 'data_s_exp-01_trial-020.txt', 'data_s_exp-0_trial-020.txt', 'data_s_exp-03_trial-020.txt', 'data_s_exp-01_trial-021.txt', 'data_s_exp-0_trial-021.txt', 'data_s_exp-03_trial-021.txt', 'data_s_exp-01_trial-022.txt', 'data_s_exp-0_trial-022.txt', 'data_s_exp-03_trial-022.txt', 'data_s_exp-01_trial-023.txt', 'data_s_exp-0_trial-023.txt', 'data_s_exp-03_trial-023.txt', 'data_s_exp-01_trial-024.txt', 'data_s_exp-0_trial-024.txt', 'data_s_exp-03_trial-024.txt', 'data_s_exp-01_trial-025.txt', 'data_s_exp-0_trial-025.txt', 'data_s_exp-03_trial-025.txt', 'data_s_exp-01_trial-026.txt', 'data_s_exp-0_trial-026.txt', 'data_s_exp-03_trial-026.txt', 'data_s_exp-01_trial-027.txt', 'data_s_exp-0_trial-027.txt', 'data_s_exp-03_trial-027.txt', 'data_s_exp-01_trial-028.txt', 'data_s_exp-0_trial-028.txt', 'data_s_exp-03_trial-028.txt', 'data_s_exp-01_trial-029.txt', 'data_s_exp-0_trial-029.txt', 'data_s_exp-03_trial-029.txt', 'data_s_exp-01_trial-030.txt', 'data_s_exp-0_trial-030.txt', 'data_s_exp-03_trial-030.txt', 'data_s_exp-01_trial-031.txt', 'data_s_exp-0_trial-031.txt', 'data_s_exp-03_trial-031.txt', 'data_s_exp-01_trial-032.txt', 'data_s_exp-0_trial-032.txt', 'data_s_exp-03_trial-032.txt', 'data_s_exp-01_trial-033.txt', 'data_s_exp-0_trial-033.txt', 'data_s_exp-03_trial-033.txt', 'data_s_exp-01_trial-034.txt', 'data_s_exp-0_trial-034.txt', 'data_s_exp-03_trial-034.txt', 'data_s_exp-01_trial-035.txt', 'data_s_exp-0_trial-035.txt', 'data_s_exp-03_trial-035.txt', 'data_s_exp-01_trial-036.txt', 'data_s_exp-0_trial-036.txt', 'data_s_exp-03_trial-036.txt', 'data_s_exp-01_trial-037.txt', 'data_s_exp-0_trial-037.txt', 'data_s_exp-03_trial-037.txt', 'data_s_exp-01_trial-038.txt', 'data_s_exp-0_trial-038.txt', 'data_s_exp-03_trial-038.txt', 'data_s_exp-01_trial-039.txt', 'data_s_exp-0_trial-039.txt', 'data_s_exp-03_trial-039.txt', 'data_s_exp-01_trial-040.txt', 'data_s_exp-0_trial-040.txt', 'data_s_exp-03_trial-040.txt', 'data_s_exp-01_trial-041.txt', 'data_s_exp-0_trial-041.txt', 'data_s_exp-03_trial-041.txt', 'data_s_exp-01_trial-042.txt', 'data_s_exp-0_trial-042.txt', 'data_s_exp-03_trial-042.txt', 'data_s_exp-01_trial-043.txt', 'data_s_exp-0_trial-043.txt', 'data_s_exp-03_trial-043.txt', 'data_s_exp-01_trial-044.txt', 'data_s_exp-0_trial-044.txt', 'data_s_exp-03_trial-044.txt', 'data_s_exp-01_trial-045.txt', 'data_s_exp-0_trial-045.txt', 'data_s_exp-03_trial-045.txt', 'data_s_exp-01_trial-046.txt', 'data_s_exp-0_trial-046.txt', 'data_s_exp-03_trial-046.txt', 'data_s_exp-01_trial-047.txt', 'data_s_exp-0_trial-047.txt', 'data_s_exp-03_trial-047.txt', 'data_s_exp-01_trial-048.txt', 'data_s_exp-0_trial-048.txt', 'data_s_exp-03_trial-048.txt', 'data_s_exp-01_trial-049.txt', 'data_s_exp-0_trial-049.txt', 'data_s_exp-03_trial-049.txt', 'data_s_exp-01_trial-050.txt', 'data_s_exp-0_trial-050.txt', 'data_s_exp-03_trial-050.txt']\n"
     ]
    }
   ],
   "source": [
    "country = ('sg', 'gb', 'us')\n",
    "XP = ('exp-01','exp-0', 'exp-03')\n",
    "listed = []\n",
    "for i in range (1,51):\n",
    "    for country  in country:\n",
    "        for exp in XP:\n",
    "            listed.append(f\"data_{country}_{exp}_trial-{i:03d}.txt\")\n",
    "print(listed)"
   ]
  },
  {
   "cell_type": "code",
   "execution_count": 2,
   "id": "bd858b46",
   "metadata": {},
   "outputs": [],
   "source": [
    "## Exercise 2 :  Tutti frutti"
   ]
  },
  {
   "cell_type": "code",
   "execution_count": 95,
   "id": "1583347d",
   "metadata": {},
   "outputs": [],
   "source": [
    "fruits = [\"apple\", \"banana\", \"pineapple\", \"jackfruit\",\n",
    "        \"peach\", \"durian\", \"watermelon\", \"mango\",\n",
    "        \"strawberry\", \"passionfruit\"]"
   ]
  },
  {
   "cell_type": "code",
   "execution_count": 68,
   "id": "223c7ac4",
   "metadata": {},
   "outputs": [
    {
     "name": "stdout",
     "output_type": "stream",
     "text": [
      "yes\n"
     ]
    }
   ],
   "source": [
    "if 'mango' in fruits:\n",
    "    print('yes')\n",
    "else:\n",
    "    print('no')\n",
    "    "
   ]
  },
  {
   "cell_type": "code",
   "execution_count": 71,
   "id": "42db12e3",
   "metadata": {},
   "outputs": [
    {
     "name": "stdout",
     "output_type": "stream",
     "text": [
      "a,e\n",
      "b,a\n",
      "p,e\n",
      "j,t\n",
      "p,h\n",
      "d,n\n",
      "w,n\n",
      "m,o\n",
      "s,y\n",
      "p,t\n"
     ]
    }
   ],
   "source": [
    "for fruit in fruits:\n",
    "    print(f\"{fruit[0]},{fruit[-1]}\")"
   ]
  },
  {
   "cell_type": "code",
   "execution_count": 82,
   "id": "803c1c5c",
   "metadata": {},
   "outputs": [
    {
     "name": "stdout",
     "output_type": "stream",
     "text": [
      "['apple', 'banana', 'PINEAPPLE', 'jackfruit', 'PEACH', 'durian', 'watermelon', 'mango', 'strawberry', 'PASSIONFRUIT']\n"
     ]
    }
   ],
   "source": [
    "new = []\n",
    "for fruit in fruits:\n",
    "    if fruit[0] == 'p':\n",
    "        new.append(fruit.upper())\n",
    "    else:\n",
    "        new.append(fruit)\n",
    "print(new)"
   ]
  },
  {
   "cell_type": "code",
   "execution_count": 87,
   "id": "35e2749c",
   "metadata": {},
   "outputs": [
    {
     "name": "stdout",
     "output_type": "stream",
     "text": [
      "['apple', 'banana', 'pineapple', 'jackfruit', 'peach', 'durian', 'watermelon', 'mango', 'strawberry', 'passionfruit', 'dragon fruit', 'apricots', 'oranges']\n"
     ]
    }
   ],
   "source": [
    "weird = [\"dragon fruit\", \"apricots\", \"oranges\"]\n",
    "for why in weird:\n",
    "    fruits.append(why)\n",
    "print(fruits)"
   ]
  },
  {
   "cell_type": "code",
   "execution_count": 89,
   "id": "65204ef5",
   "metadata": {},
   "outputs": [
    {
     "name": "stdout",
     "output_type": "stream",
     "text": [
      "['dragon fruit', 'apricots', 'oranges', 'apple', 'banana', 'pineapple', 'jackfruit', 'peach', 'durian', 'watermelon', 'mango', 'strawberry', 'passionfruit']\n"
     ]
    }
   ],
   "source": [
    "weird = [\"dragon fruit\", \"apricots\", \"oranges\"]\n",
    "for fruit in fruits:\n",
    "    weird.append(fruit)\n",
    "print(weird)"
   ]
  },
  {
   "cell_type": "code",
   "execution_count": 94,
   "id": "93f437c9",
   "metadata": {},
   "outputs": [
    {
     "name": "stdout",
     "output_type": "stream",
     "text": [
      "(['apple', 'banana', 'pineapple', 'jackfruit', 'peach', 'durian'], ['dragon fruit', 'apricots', 'oranges'], ['watermelon', 'mango', 'strawberry', 'passionfruit'])\n"
     ]
    }
   ],
   "source": [
    "weird = [\"dragon fruit\", \"apricots\", \"oranges\"]\n",
    "x = int(len(fruit)/2)\n",
    "new =(fruits[:x], weird, fruits[x:])\n",
    "print(new)"
   ]
  },
  {
   "cell_type": "code",
   "execution_count": 99,
   "id": "fa0e8774",
   "metadata": {
    "code_folding": []
   },
   "outputs": [
    {
     "name": "stdout",
     "output_type": "stream",
     "text": [
      "['pineapple', 'jackfruit', 'watermelon', 'strawberry', 'passionfruit']\n"
     ]
    }
   ],
   "source": [
    "long = []\n",
    "for fruit in fruits:\n",
    "    if len(fruit) > 8:\n",
    "        long.append(fruit)\n",
    "print(long)"
   ]
  },
  {
   "cell_type": "markdown",
   "id": "8366f1fe",
   "metadata": {},
   "source": [
    "## Exercise 3 :  Ciao Fibonacci"
   ]
  },
  {
   "cell_type": "code",
   "execution_count": 101,
   "id": "9acdb762",
   "metadata": {},
   "outputs": [
    {
     "name": "stdout",
     "output_type": "stream",
     "text": [
      "[0, 1, 1, 2, 3, 5, 8, 13, 21, 34, 55, 89, 144, 233, 377, 610, 987, 1597, 2584, 4181, 6765, 10946, 17711, 28657, 46368, 75025, 121393, 196418, 317811, 514229, 832040, 1346269, 2178309, 3524578, 5702887, 9227465, 14930352, 24157817, 39088169, 63245986, 102334155, 165580141, 267914296, 433494437, 701408733, 1134903170, 1836311903, 2971215073, 4807526976, 7778742049, 12586269025, 20365011074, 32951280099, 53316291173, 86267571272, 139583862445, 225851433717, 365435296162, 591286729879, 956722026041, 1548008755920, 2504730781961, 4052739537881, 6557470319842, 10610209857723, 17167680177565, 27777890035288, 44945570212853, 72723460248141, 117669030460994, 190392490709135, 308061521170129, 498454011879264, 806515533049393, 1304969544928657, 2111485077978050, 3416454622906707, 5527939700884757, 8944394323791464, 14472334024676221, 23416728348467685, 37889062373143906, 61305790721611591, 99194853094755497, 160500643816367088, 259695496911122585, 420196140727489673, 679891637638612258, 1100087778366101931, 1779979416004714189, 2880067194370816120, 4660046610375530309, 7540113804746346429, 12200160415121876738, 19740274219868223167, 31940434634990099905, 51680708854858323072, 83621143489848422977, 135301852344706746049, 218922995834555169026]\n"
     ]
    }
   ],
   "source": [
    "start = [0, 1]\n",
    "y = 100\n",
    "while len(start) < y:\n",
    "    start.append(start[-1] + start[-2])\n",
    "print(start)"
   ]
  },
  {
   "cell_type": "code",
   "execution_count": 104,
   "id": "0d2ed47b",
   "metadata": {},
   "outputs": [
    {
     "name": "stdout",
     "output_type": "stream",
     "text": [
      "[0, 1, 1, 2, 3, 5, 8, 13, 21, 34, 55, 89, 144, 233, 377]\n"
     ]
    }
   ],
   "source": [
    "fibonnaci = [0, 1]\n",
    "for i in range(1, 14):\n",
    "    fibonnaci.append(fibonnaci[-1] + fibonnaci[-2])\n",
    "print(fibonnaci)"
   ]
  },
  {
   "cell_type": "markdown",
   "id": "a9aec769",
   "metadata": {},
   "source": [
    "## Exercise 4 :  A function for Fibonacci"
   ]
  },
  {
   "cell_type": "code",
   "execution_count": 105,
   "id": "81e732eb",
   "metadata": {},
   "outputs": [
    {
     "data": {
      "text/plain": [
       "[0, 1, 1, 2, 3, 5, 8, 13, 21, 34]"
      ]
     },
     "execution_count": 105,
     "metadata": {},
     "output_type": "execute_result"
    }
   ],
   "source": [
    "def fibonnaci(n):\n",
    "    start = [0, 1]\n",
    "    while len(start) < n:\n",
    "        start.append(start[-1] + start[-2])\n",
    "    return(start)\n",
    "fibonnaci(10)"
   ]
  },
  {
   "cell_type": "markdown",
   "id": "fa85150f",
   "metadata": {},
   "source": [
    "## Exercise 5 :  max_info() without NumPy"
   ]
  },
  {
   "cell_type": "code",
   "execution_count": 115,
   "id": "788bae1e",
   "metadata": {},
   "outputs": [
    {
     "data": {
      "text/plain": [
       "(7, 3)"
      ]
     },
     "execution_count": 115,
     "metadata": {},
     "output_type": "execute_result"
    }
   ],
   "source": [
    "def max_info(numbers):\n",
    "    x = 0\n",
    "    my_max = 0\n",
    "    for number in numbers:\n",
    "        if number > my_max:\n",
    "            my_max = number\n",
    "            my_max_index = x\n",
    "        x+=1\n",
    "    return(my_max, my_max_index)\n",
    "max_info([1, 2, 3,7 ,3,4,6 ,6])\n",
    "  \n"
   ]
  },
  {
   "cell_type": "markdown",
   "id": "f34b80e6",
   "metadata": {},
   "source": [
    "## Exercise 6 :  Take count"
   ]
  },
  {
   "cell_type": "code",
   "execution_count": 132,
   "id": "ce4135ec",
   "metadata": {},
   "outputs": [
    {
     "name": "stdout",
     "output_type": "stream",
     "text": [
      "['A', 'G', 'G', 'C', 'A', 'A', 'G', 'A', 'A', 'G', 'C', 'T', 'A', 'G', 'A', 'A', 'T', 'T', 'C', 'T', 'G', 'G', 'C', 'C', 'T', 'G', 'A', 'G', 'T', 'A', 'T', 'C', 'T', 'C', 'A', 'G', 'T', 'A', 'C', 'A', 'G', 'G', 'C', 'G', 'C', 'A', 'G', 'T', 'C', 'G', 'A', 'A', 'T', 'C', 'T', 'T', 'C', 'C', 'G', 'G', 'A', 'A', 'T', 'C', 'A', 'C', 'A', 'T', 'T', 'G', 'C', 'T', 'C', 'G', 'C', 'G', 'C', 'T', 'T', 'A', 'A', 'A', 'C', 'C', 'C', 'G', 'C', 'T', 'C', 'T', 'A', 'A', 'A', 'C', 'C', 'T', 'T', 'T', 'G', 'A', 'G', 'T', 'A', 'A', 'T', 'T', 'C', 'G', 'A', 'C', 'G', 'A', 'C', 'A', 'T', 'T', 'G', 'G', 'G', 'T', 'T', 'C', 'C', 'C', 'T', 'C', 'C', 'G', 'A', 'C', 'G', 'C', 'T', 'G', 'T', 'C', 'T', 'G', 'A', 'C', 'A', 'A', 'C', 'T', 'C', 'T', 'T', 'T', 'A', 'A', 'G', 'A', 'T', 'C', 'C', 'T', 'T', 'G', 'G', 'C', 'A', 'C', 'G', 'A', 'T', 'G', 'T', 'C', 'G', 'A', 'T', 'A', 'G', 'A', 'C', 'A', 'T', 'T', 'G', 'T', 'C', 'C', 'C', 'T', 'G', 'A', 'T', 'G', 'A', 'C', 'G', 'C', 'C', 'T', 'C', 'A', 'C', 'A', 'A', 'G', 'G', 'T', 'A', 'A', 'C', 'C', 'T', 'G', 'G', 'C', 'T', 'C', 'T', 'A', 'G', 'T', 'A', 'G', 'G', 'G', 'T', 'G', 'G', 'T', 'C', 'T', 'T', 'T', 'G', 'C', 'T', 'G', 'C', 'G', 'G', 'A', 'A', 'C', 'T', 'T', 'A', 'C', 'C', 'A', 'C', 'C', 'T', 'G', 'G', 'T', 'G', 'G', 'A', 'T', 'C', 'C', 'A', 'A', 'G', 'C', 'A', 'C', 'C', 'A', 'G', 'A', 'G', 'G', 'A', 'G', 'T', 'T', 'C', 'G', 'A', 'A', 'G', 'A', 'G', 'G', 'C', 'T', 'G', 'G', 'G', 'G', 'T', 'A', 'C', 'C', 'C', 'C', 'C', 'T', 'A', 'T', 'T', 'T', 'A', 'G', 'G', 'A', 'A', 'G', 'G', 'G', 'C', 'G', 'A', 'G', 'A', 'C', 'T', 'A', 'C', 'G', 'G', 'T', 'C', 'A', 'C', 'A', 'A', 'A', 'T', 'T', 'C', 'C', 'A', 'A', 'A', 'T', 'G', 'G', 'C', 'T', 'T', 'C', 'C', 'C', 'T', 'C', 'G', 'A', 'T', 'T', 'C', 'A', 'T', 'G', 'A', 'C', 'G', 'C', 'C', 'A', 'G', 'A', 'A', 'T', 'G', 'C', 'C', 'T', 'G', 'G', 'C', 'T', 'G', 'T', 'G', 'C', 'C', 'A', 'A', 'T', 'T', 'T', 'G', 'T', 'C', 'G', 'C', 'C', 'T', 'T', 'G', 'C', 'G', 'T', 'C', 'G', 'T', 'T', 'C', 'T', 'G', 'T', 'C', 'A', 'A', 'T', 'C', 'T', 'T', 'T', 'A', 'C', 'T', 'C', 'G', 'T', 'G', 'T', 'C', 'G', 'T', 'G', 'T', 'T', 'G', 'T', 'G', 'A', 'T', 'A', 'A', 'A', 'T', 'G', 'A', 'C', 'A', 'A', 'A', 'C', 'C', 'C', 'T', 'G', 'C', 'A', 'C', 'A', 'A', 'C', 'G', 'T', 'A', 'G', 'G', 'G', 'C', 'T', 'C', 'A', 'C', 'A', 'C', 'A', 'A', 'G', 'G', 'G', 'A', 'A', 'T', 'C', 'T', 'A', 'G', 'A', 'G', 'T', 'A', 'T', 'C', 'C', 'G', 'A', 'T', 'A', 'C', 'A', 'G', 'G', 'G', 'A', 'G', 'C', 'T', 'T', 'T', 'A', 'G', 'C', 'T', 'T', 'C', 'C', 'G', 'T', 'C', 'C', 'C', 'T', 'T', 'A', 'T', 'A', 'G', 'C', 'C', 'T', 'G', 'C', 'C', 'A', 'T', 'A', 'T', 'T', 'C', 'T', 'T', 'G', 'C', 'G', 'G', 'T', 'A', 'G', 'C', 'A', 'C', 'G', 'A', 'G', 'C', 'C', 'T', 'C', 'A', 'G', 'A', 'T', 'C', 'T', 'T', 'C', 'T', 'C', 'A', 'C', 'T', 'C', 'C', 'G', 'G', 'A', 'A', 'A', 'T', 'G', 'G', 'G', 'A', 'G', 'C', 'T', 'T', 'C', 'G', 'A', 'C', 'G', 'G', 'T', 'C', 'A', 'A', 'G', 'G', 'G', 'C', 'T', 'A', 'A', 'G', 'A', 'C', 'G', 'T', 'C', 'T', 'T', 'C', 'G', 'G', 'G', 'A', 'G', 'A', 'A', 'A', 'T', 'A', 'C', 'C', 'T', 'A', 'G', 'G', 'C', 'G', 'A', 'T', 'G', 'A', 'C', 'C', 'C', 'T', 'G', 'A', 'G', 'T', 'G', 'G', 'T', 'T', 'T', 'T', 'C', 'C', 'G', 'C', 'G', 'T', 'A', 'T', 'A', 'A', 'C', 'T', 'C', 'A', 'T', 'C', 'C', 'T', 'G', 'G', 'T', 'T', 'G', 'C', 'A', 'A', 'A', 'T', 'G', 'A', 'T', 'T', 'A', 'C', 'C', 'G', 'T', 'T', 'A', 'T', 'A', 'G', 'C', 'C', 'T', 'G', 'G', 'G', 'G', 'A', 'T', 'A', 'T', 'G', 'C', 'C', 'T', 'C', 'A', 'A', 'T', 'T', 'C', 'C', 'G', 'A', 'A', 'C', 'C', 'C', 'A', 'G', 'G', 'A', 'G', 'C', 'A', 'T', 'C', 'A', 'C', 'T', 'C', 'G', 'A', 'G', 'C', 'A', 'A', 'T', 'A', 'G', 'C', 'G', 'G', 'T', 'A', 'A', 'A', 'G', 'G', 'A', 'G', 'G', 'C', 'T', 'A', 'T', 'T', 'A', 'G', 'C', 'A', 'A', 'A', 'A', 'T', 'T', 'G', 'T', 'C', 'A', 'C', 'G', 'A', 'T', 'A', 'A', 'G', 'C', 'G', 'C', 'C', 'G', 'T', 'T', 'G', 'T', 'A', 'G', 'T', 'G', 'A', 'A', 'A', 'T', 'T', 'A', 'A', 'G', 'A', 'T', 'A', 'C', 'A', 'T', 'A', 'C', 'A', 'T', 'C', 'G', 'T', 'T', 'T', 'A', 'G', 'C', 'A', 'C', 'A', 'T', 'C', 'A', 'C', 'T', 'C', 'T', 'C', 'A', 'C', 'G', 'G', 'C', 'G', 'T', 'C', 'T', 'A', 'G', 'A', 'A', 'G', 'C', 'T', 'G', 'A', 'T', 'C', 'T', 'T', 'C', 'A', 'T', 'A', 'T', 'G', 'C', 'T', 'G', 'A', 'C', 'T', 'C', 'A', 'G', 'A', 'A', 'G', 'G', 'C', 'T', 'C', 'G', 'G', 'A', 'T', 'A', 'A', 'T', 'A', 'G', 'A', 'G', 'G', 'A', 'C', 'G', 'A', 'A', 'G', 'G', 'T', 'A', 'G', 'T', 'T', 'T', 'A', 'C', 'T', 'C', 'A', 'T', 'C', 'G', 'C', 'T', 'G', 'C', 'C', 'C', 'C', 'G', 'A', 'C', 'T', 'A', 'T', 'T', 'A', 'C', 'G', 'T', 'G', 'T', 'G', 'C', 'A', 'T', 'G', 'A', 'T', 'A', 'A', 'A', 'G', 'T', 'C', 'T', 'G', 'A', 'C', 'C', 'C', 'T', 'G', 'A', 'C', 'G', 'T', 'T', 'C', 'C', 'C', 'A', 'A', 'G', 'C', 'C', 'G', 'A', 'G', 'G', 'C', 'A', 'G', 'A', 'G', 'G', 'G', 'G', 'T', 'T', 'T', 'T', 'A', 'C', 'G', 'C', 'T', 'G', 'A', 'A', 'T', 'G', 'T', 'C', 'C', 'G', 'C', 'T', 'C', 'T', 'C', 'T', 'G', 'T', 'C', 'G', 'G', 'A', 'T', 'G', 'A', 'T', 'T', 'T', 'C', 'G', 'G', 'A', 'A', 'G', 'C', 'T', 'G']\n"
     ]
    }
   ],
   "source": [
    "DNA ='AGGCAAGAAGCTAGAATTCTGGCCTGAGTATCTCAGTACAGGCGCAGTCGAATCTTCCGGAATCACATTGCTCGCGCTTAAACCCGCTCTAAACCTTTGAGTAATTCGACGACATTGGGTTCCCTCCGACGCTGTCTGACAACTCTTTAAGATCCTTGGCACGATGTCGATAGACATTGTCCCTGATGACGCCTCACAAGGTAACCTGGCTCTAGTAGGGTGGTCTTTGCTGCGGAACTTACCACCTGGTGGATCCAAGCACCAGAGGAGTTCGAAGAGGCTGGGGTACCCCCTATTTAGGAAGGGCGAGACTACGGTCACAAATTCCAAATGGCTTCCCTCGATTCATGACGCCAGAATGCCTGGCTGTGCCAATTTGTCGCCTTGCGTCGTTCTGTCAATCTTTACTCGTGTCGTGTTGTGATAAATGACAAACCCTGCACAACGTAGGGCTCACACAAGGGAATCTAGAGTATCCGATACAGGGAGCTTTAGCTTCCGTCCCTTATAGCCTGCCATATTCTTGCGGTAGCACGAGCCTCAGATCTTCTCACTCCGGAAATGGGAGCTTCGACGGTCAAGGGCTAAGACGTCTTCGGGAGAAATACCTAGGCGATGACCCTGAGTGGTTTTCCGCGTATAACTCATCCTGGTTGCAAATGATTACCGTTATAGCCTGGGGATATGCCTCAATTCCGAACCCAGGAGCATCACTCGAGCAATAGCGGTAAAGGAGGCTATTAGCAAAATTGTCACGATAAGCGCCGTTGTAGTGAAATTAAGATACATACATCGTTTAGCACATCACTCTCACGGCGTCTAGAAGCTGATCTTCATATGCTGACTCAGAAGGCTCGGATAATAGAGGACGAAGGTAGTTTACTCATCGCTGCCCCGACTATTACGTGTGCATGATAAAGTCTGACCCTGACGTTCCCAAGCCGAGGCAGAGGGGTTTTACGCTGAATGTCCGCTCTCTGTCGGATGATTTCGGAAGCTG'\n",
    "dna=[]\n",
    "for i in range(len(DNA)):\n",
    "    dna.append(DNA[i])\n",
    "print(dna)"
   ]
  },
  {
   "cell_type": "code",
   "execution_count": 120,
   "id": "2820052a",
   "metadata": {},
   "outputs": [
    {
     "name": "stdout",
     "output_type": "stream",
     "text": [
      "254\n"
     ]
    }
   ],
   "source": [
    "x = 0\n",
    "for letters in dna:\n",
    "    if letters == 'T':\n",
    "        x+=1\n",
    "print(x)"
   ]
  },
  {
   "cell_type": "code",
   "execution_count": 146,
   "id": "1eaac456",
   "metadata": {},
   "outputs": [
    {
     "data": {
      "text/plain": [
       "254"
      ]
     },
     "execution_count": 146,
     "metadata": {},
     "output_type": "execute_result"
    }
   ],
   "source": [
    "z = [True if letters == 'T' else False for letters in dna ]\n",
    "sum(z)"
   ]
  },
  {
   "cell_type": "code",
   "execution_count": 134,
   "id": "1a526df0",
   "metadata": {},
   "outputs": [
    {
     "name": "stdout",
     "output_type": "stream",
     "text": [
      "247 250 249 254\n"
     ]
    }
   ],
   "source": [
    "c = 0\n",
    "g = 0\n",
    "a = 0\n",
    "t = 0\n",
    "for letters in dna:\n",
    "    if letters == 'C':\n",
    "        c+=1\n",
    "    if letters == 'G':\n",
    "        g+=1\n",
    "    if letters == 'A':\n",
    "        a+=1\n",
    "    if letters == 'T':\n",
    "        t+=1\n",
    "print(a,c,g,t)\n",
    "    "
   ]
  },
  {
   "cell_type": "code",
   "execution_count": 148,
   "id": "f2934295",
   "metadata": {},
   "outputs": [
    {
     "name": "stdout",
     "output_type": "stream",
     "text": [
      "(array(['A', 'C', 'G', 'T'], dtype='<U1'), array([247, 250, 249, 254], dtype=int64))\n"
     ]
    }
   ],
   "source": [
    "import numpy as np\n",
    "print(np.unique(dna, False, False, True))"
   ]
  },
  {
   "cell_type": "code",
   "execution_count": 163,
   "id": "f92e82e7",
   "metadata": {},
   "outputs": [
    {
     "name": "stdout",
     "output_type": "stream",
     "text": [
      "['AGGC', 'AAGA', 'AGCT', 'AGAA', 'TTCT', 'GGCC', 'TGAG', 'TATC', 'TCAG', 'TACA', 'GGCG', 'CAGT', 'CGAA', 'TCTT', 'CCGG', 'AATC', 'ACAT', 'TGCT', 'CGCG', 'CTTA', 'AACC', 'CGCT', 'CTAA', 'ACCT', 'TTGA', 'GTAA', 'TTCG', 'ACGA', 'CATT', 'GGGT', 'TCCC', 'TCCG', 'ACGC', 'TGTC', 'TGAC', 'AACT', 'CTTT', 'AAGA', 'TCCT', 'TGGC', 'ACGA', 'TGTC', 'GATA', 'GACA', 'TTGT', 'CCCT', 'GATG', 'ACGC', 'CTCA', 'CAAG', 'GTAA', 'CCTG', 'GCTC', 'TAGT', 'AGGG', 'TGGT', 'CTTT', 'GCTG', 'CGGA', 'ACTT', 'ACCA', 'CCTG', 'GTGG', 'ATCC', 'AAGC', 'ACCA', 'GAGG', 'AGTT', 'CGAA', 'GAGG', 'CTGG', 'GGTA', 'CCCC', 'CTAT', 'TTAG', 'GAAG', 'GGCG', 'AGAC', 'TACG', 'GTCA', 'CAAA', 'TTCC', 'AAAT', 'GGCT', 'TCCC', 'TCGA', 'TTCA', 'TGAC', 'GCCA', 'GAAT', 'GCCT', 'GGCT', 'GTGC', 'CAAT', 'TTGT', 'CGCC', 'TTGC', 'GTCG', 'TTCT', 'GTCA', 'ATCT', 'TTAC', 'TCGT', 'GTCG', 'TGTT', 'GTGA', 'TAAA', 'TGAC', 'AAAC', 'CCTG', 'CACA', 'ACGT', 'AGGG', 'CTCA', 'CACA', 'AGGG', 'AATC', 'TAGA', 'GTAT', 'CCGA', 'TACA', 'GGGA', 'GCTT', 'TAGC', 'TTCC', 'GTCC', 'CTTA', 'TAGC', 'CTGC', 'CATA', 'TTCT', 'TGCG', 'GTAG', 'CACG', 'AGCC', 'TCAG', 'ATCT', 'TCTC', 'ACTC', 'CGGA', 'AATG', 'GGAG', 'CTTC', 'GACG', 'GTCA', 'AGGG', 'CTAA', 'GACG', 'TCTT', 'CGGG', 'AGAA', 'ATAC', 'CTAG', 'GCGA', 'TGAC', 'CCTG', 'AGTG', 'GTTT', 'TCCG', 'CGTA', 'TAAC', 'TCAT', 'CCTG', 'GTTG', 'CAAA', 'TGAT', 'TACC', 'GTTA', 'TAGC', 'CTGG', 'GGAT', 'ATGC', 'CTCA', 'ATTC', 'CGAA', 'CCCA', 'GGAG', 'CATC', 'ACTC', 'GAGC', 'AATA', 'GCGG', 'TAAA', 'GGAG', 'GCTA', 'TTAG', 'CAAA', 'ATTG', 'TCAC', 'GATA', 'AGCG', 'CCGT', 'TGTA', 'GTGA', 'AATT', 'AAGA', 'TACA', 'TACA', 'TCGT', 'TTAG', 'CACA', 'TCAC', 'TCTC', 'ACGG', 'CGTC', 'TAGA', 'AGCT', 'GATC', 'TTCA', 'TATG', 'CTGA', 'CTCA', 'GAAG', 'GCTC', 'GGAT', 'AATA', 'GAGG', 'ACGA', 'AGGT', 'AGTT', 'TACT', 'CATC', 'GCTG', 'CCCC', 'GACT', 'ATTA', 'CGTG', 'TGCA', 'TGAT', 'AAAG', 'TCTG', 'ACCC', 'TGAC', 'GTTC', 'CCAA', 'GCCG', 'AGGC', 'AGAG', 'GGGT', 'TTTA', 'CGCT', 'GAAT', 'GTCC', 'GCTC', 'TCTG', 'TCGG', 'ATGA', 'TTTC', 'GGAA', 'GCTG']\n"
     ]
    }
   ],
   "source": [
    "word = []\n",
    "for i in range(0, len(DNA),4):\n",
    "    word.append(DNA[i:i+4])\n",
    "print(word)"
   ]
  },
  {
   "cell_type": "code",
   "execution_count": 161,
   "id": "a66020b6",
   "metadata": {},
   "outputs": [
    {
     "name": "stdout",
     "output_type": "stream",
     "text": [
      "GGC\n",
      "GGC\n",
      "GGC\n",
      "GGC\n",
      "GGC\n",
      "GGC\n",
      "GGC\n",
      "GGC\n",
      "GGC\n",
      "GGC\n",
      "GGC\n",
      "GGC\n",
      "GGC\n",
      "GGC\n",
      "GGC\n",
      "GGC\n",
      "GGC\n",
      "GGC\n",
      "GGC\n",
      "GGC\n",
      "GGC\n",
      "GGC\n",
      "GGC\n",
      "GGC\n",
      "GGC\n",
      "GGC\n",
      "GGC\n",
      "GGC\n",
      "GGC\n",
      "GGC\n",
      "GGC\n",
      "GGC\n",
      "GGC\n",
      "GGC\n",
      "GGC\n",
      "GGC\n",
      "GGC\n",
      "GGC\n",
      "GGC\n",
      "GGC\n",
      "GGC\n",
      "GGC\n",
      "GGC\n",
      "GGC\n",
      "GGC\n",
      "GGC\n",
      "GGC\n",
      "GGC\n",
      "GGC\n",
      "GGC\n",
      "GGC\n",
      "GGC\n",
      "GGC\n",
      "GGC\n",
      "GGC\n",
      "GGC\n",
      "GGC\n",
      "GGC\n",
      "GGC\n",
      "GGC\n",
      "GGC\n",
      "GGC\n",
      "GGC\n",
      "GGC\n",
      "GGC\n",
      "GGC\n",
      "GGC\n",
      "GGC\n",
      "GGC\n",
      "GGC\n",
      "GGC\n",
      "GGC\n",
      "GGC\n",
      "GGC\n",
      "GGC\n",
      "GGC\n",
      "GGC\n",
      "GGC\n",
      "GGC\n",
      "GGC\n",
      "GGC\n",
      "GGC\n",
      "GGC\n",
      "GGC\n",
      "GGC\n",
      "GGC\n",
      "GGC\n",
      "GGC\n",
      "GGC\n",
      "GGC\n",
      "GGC\n",
      "GGC\n",
      "GGC\n",
      "GGC\n",
      "GGC\n",
      "GGC\n",
      "GGC\n",
      "GGC\n",
      "GGC\n",
      "GGC\n",
      "GGC\n",
      "GGC\n",
      "GGC\n",
      "GGC\n",
      "GGC\n",
      "GGC\n",
      "GGC\n",
      "GGC\n",
      "GGC\n",
      "GGC\n",
      "GGC\n",
      "GGC\n",
      "GGC\n",
      "GGC\n",
      "GGC\n",
      "GGC\n",
      "GGC\n",
      "GGC\n",
      "GGC\n",
      "GGC\n",
      "GGC\n",
      "GGC\n",
      "GGC\n",
      "GGC\n",
      "GGC\n",
      "GGC\n",
      "GGC\n",
      "GGC\n",
      "GGC\n",
      "GGC\n",
      "GGC\n",
      "GGC\n",
      "GGC\n",
      "GGC\n",
      "GGC\n",
      "GGC\n",
      "GGC\n",
      "GGC\n",
      "GGC\n",
      "GGC\n",
      "GGC\n",
      "GGC\n",
      "GGC\n",
      "GGC\n",
      "GGC\n",
      "GGC\n",
      "GGC\n",
      "GGC\n",
      "GGC\n",
      "GGC\n",
      "GGC\n",
      "GGC\n",
      "GGC\n",
      "GGC\n",
      "GGC\n",
      "GGC\n",
      "GGC\n",
      "GGC\n",
      "GGC\n",
      "GGC\n",
      "GGC\n",
      "GGC\n",
      "GGC\n",
      "GGC\n",
      "GGC\n",
      "GGC\n",
      "GGC\n",
      "GGC\n",
      "GGC\n",
      "GGC\n",
      "GGC\n",
      "GGC\n",
      "GGC\n",
      "GGC\n",
      "GGC\n",
      "GGC\n",
      "GGC\n",
      "GGC\n",
      "GGC\n",
      "GGC\n",
      "GGC\n",
      "GGC\n",
      "GGC\n",
      "GGC\n",
      "GGC\n",
      "GGC\n",
      "GGC\n",
      "GGC\n",
      "GGC\n",
      "GGC\n",
      "GGC\n",
      "GGC\n",
      "GGC\n",
      "GGC\n",
      "GGC\n",
      "GGC\n",
      "GGC\n",
      "GGC\n",
      "GGC\n",
      "GGC\n",
      "GGC\n",
      "GGC\n",
      "GGC\n",
      "GGC\n",
      "GGC\n",
      "GGC\n",
      "GGC\n",
      "GGC\n",
      "GGC\n",
      "GGC\n",
      "GGC\n",
      "GGC\n",
      "GGC\n",
      "GGC\n",
      "GGC\n",
      "GGC\n",
      "GGC\n",
      "GGC\n",
      "GGC\n",
      "GGC\n",
      "GGC\n",
      "GGC\n",
      "GGC\n",
      "GGC\n",
      "GGC\n",
      "GGC\n",
      "GGC\n",
      "GGC\n",
      "GGC\n",
      "GGC\n",
      "GGC\n",
      "GGC\n",
      "GGC\n",
      "GGC\n",
      "GGC\n",
      "GGC\n",
      "GGC\n",
      "GGC\n",
      "GGC\n",
      "GGC\n",
      "GGC\n",
      "GGC\n",
      "GGC\n",
      "GGC\n",
      "GGC\n",
      "GGC\n",
      "GGC\n",
      "GGC\n",
      "GGC\n",
      "GGC\n"
     ]
    }
   ],
   "source": [
    "for i in range(1, 1000,4):\n",
    "    print(DNA[1:4])"
   ]
  },
  {
   "cell_type": "code",
   "execution_count": null,
   "id": "c9bd8939",
   "metadata": {},
   "outputs": [],
   "source": []
  }
 ],
 "metadata": {
  "kernelspec": {
   "display_name": "Python 3 (ipykernel)",
   "language": "python",
   "name": "python3"
  },
  "language_info": {
   "codemirror_mode": {
    "name": "ipython",
    "version": 3
   },
   "file_extension": ".py",
   "mimetype": "text/x-python",
   "name": "python",
   "nbconvert_exporter": "python",
   "pygments_lexer": "ipython3",
   "version": "3.10.8"
  },
  "toc": {
   "base_numbering": 1,
   "nav_menu": {},
   "number_sections": true,
   "sideBar": true,
   "skip_h1_title": false,
   "title_cell": "Table of Contents",
   "title_sidebar": "Contents",
   "toc_cell": false,
   "toc_position": {},
   "toc_section_display": true,
   "toc_window_display": false
  },
  "varInspector": {
   "cols": {
    "lenName": 16,
    "lenType": 16,
    "lenVar": 40
   },
   "kernels_config": {
    "python": {
     "delete_cmd_postfix": "",
     "delete_cmd_prefix": "del ",
     "library": "var_list.py",
     "varRefreshCmd": "print(var_dic_list())"
    },
    "r": {
     "delete_cmd_postfix": ") ",
     "delete_cmd_prefix": "rm(",
     "library": "var_list.r",
     "varRefreshCmd": "cat(var_dic_list()) "
    }
   },
   "types_to_exclude": [
    "module",
    "function",
    "builtin_function_or_method",
    "instance",
    "_Feature"
   ],
   "window_display": false
  },
  "vscode": {
   "interpreter": {
    "hash": "31f2aee4e71d21fbe5cf8b01ff0e069b9275f58929596ceb00d14d90e3e16cd6"
   }
  }
 },
 "nbformat": 4,
 "nbformat_minor": 5
}
